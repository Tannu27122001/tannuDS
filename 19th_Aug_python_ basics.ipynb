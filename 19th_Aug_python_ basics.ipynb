{
 "cells": [
  {
   "cell_type": "code",
   "execution_count": null,
   "id": "6607fd79-83d3-4212-84ab-99d894e9bc32",
   "metadata": {},
   "outputs": [],
   "source": [
    "#swapping of values of variables without using third variable.#"
   ]
  },
  {
   "cell_type": "code",
   "execution_count": 1,
   "id": "e722bcaf-dbec-401d-ab24-547a45a7f094",
   "metadata": {},
   "outputs": [],
   "source": [
    "a=10"
   ]
  },
  {
   "cell_type": "code",
   "execution_count": 2,
   "id": "430a2516-283f-42b2-8d2d-9243eee48c7d",
   "metadata": {},
   "outputs": [],
   "source": [
    "b=5"
   ]
  },
  {
   "cell_type": "code",
   "execution_count": 3,
   "id": "5cb2ac0b-51b8-47aa-8f08-767b253d0f20",
   "metadata": {},
   "outputs": [],
   "source": [
    "a=a+b"
   ]
  },
  {
   "cell_type": "code",
   "execution_count": 4,
   "id": "d05f6faf-c3bc-4fa0-a438-9b8414e59a8b",
   "metadata": {},
   "outputs": [],
   "source": [
    "b=a-b"
   ]
  },
  {
   "cell_type": "code",
   "execution_count": 5,
   "id": "004d7cc5-c660-4647-9309-65d4b1b8d2df",
   "metadata": {},
   "outputs": [],
   "source": [
    "a=a-b"
   ]
  },
  {
   "cell_type": "code",
   "execution_count": 7,
   "id": "762d80ec-3db2-4dae-976a-6b1459caa3cf",
   "metadata": {},
   "outputs": [
    {
     "name": "stdout",
     "output_type": "stream",
     "text": [
      "a is 5 b is  10\n"
     ]
    }
   ],
   "source": [
    "print(\"a is\",a,\"b is \",b)"
   ]
  },
  {
   "cell_type": "code",
   "execution_count": null,
   "id": "ab66c6ff-0a47-4fd7-8475-f264ce4ffd63",
   "metadata": {},
   "outputs": [],
   "source": [
    "#calculating the area of rectangle .#"
   ]
  },
  {
   "cell_type": "code",
   "execution_count": 8,
   "id": "24c6d890-7fa9-437c-a56e-30cb5b27fe16",
   "metadata": {},
   "outputs": [
    {
     "name": "stdin",
     "output_type": "stream",
     "text": [
      "enter the lenght  6\n"
     ]
    }
   ],
   "source": [
    "l=int(input(\"enter the lenght \"))"
   ]
  },
  {
   "cell_type": "code",
   "execution_count": 9,
   "id": "e27b307b-6dd8-4e98-90e8-02b581386246",
   "metadata": {},
   "outputs": [
    {
     "name": "stdin",
     "output_type": "stream",
     "text": [
      "enter the bredth 4\n"
     ]
    }
   ],
   "source": [
    "b=int(input(\"enter the bredth\"))"
   ]
  },
  {
   "cell_type": "code",
   "execution_count": 10,
   "id": "9497738a-afbb-445f-8136-d0a841cf000d",
   "metadata": {},
   "outputs": [],
   "source": [
    "area = l*b"
   ]
  },
  {
   "cell_type": "code",
   "execution_count": 11,
   "id": "ab1decde-ebcd-4587-88a6-5774e1fc31bc",
   "metadata": {},
   "outputs": [
    {
     "name": "stdout",
     "output_type": "stream",
     "text": [
      "area of rectangle is 24\n"
     ]
    }
   ],
   "source": [
    "print(\"area of rectangle is\",area) "
   ]
  },
  {
   "cell_type": "code",
   "execution_count": null,
   "id": "86864df8-2cfa-468a-86be-fcf2f4edb361",
   "metadata": {},
   "outputs": [],
   "source": [
    "# converting temperatures from Celsius to fahrenheit.#"
   ]
  },
  {
   "cell_type": "code",
   "execution_count": 13,
   "id": "de12511f-6266-445e-a372-fc29706e4760",
   "metadata": {},
   "outputs": [
    {
     "name": "stdin",
     "output_type": "stream",
     "text": [
      "enter temp. in celsius 23\n"
     ]
    }
   ],
   "source": [
    "celsius=float(input(\"enter temp. in celsius\"))"
   ]
  },
  {
   "cell_type": "code",
   "execution_count": 14,
   "id": "a4f250c9-9d1f-4dde-9ad9-7be0d613452d",
   "metadata": {},
   "outputs": [],
   "source": [
    "fahrenheit=(celsius*1.8)+32"
   ]
  },
  {
   "cell_type": "code",
   "execution_count": 15,
   "id": "32852d22-382e-4ccb-9e33-dbad00309152",
   "metadata": {},
   "outputs": [
    {
     "name": "stdout",
     "output_type": "stream",
     "text": [
      "celsius temp. in fahrenheit is 73.4\n"
     ]
    }
   ],
   "source": [
    "print(\"celsius temp. in fahrenheit is\",fahrenheit) "
   ]
  },
  {
   "cell_type": "code",
   "execution_count": null,
   "id": "3ef3000a-9008-4424-9e24-d1168929b80c",
   "metadata": {},
   "outputs": [],
   "source": [
    "#to find lenght of string using len()#"
   ]
  },
  {
   "cell_type": "code",
   "execution_count": 16,
   "id": "6b237f76-475e-4cb4-a65f-cd3a84abc2c6",
   "metadata": {},
   "outputs": [],
   "source": [
    "str=\"tannu\""
   ]
  },
  {
   "cell_type": "code",
   "execution_count": 18,
   "id": "b4dcb7be-1cb2-4472-9a0e-58eb866deec2",
   "metadata": {},
   "outputs": [
    {
     "name": "stdout",
     "output_type": "stream",
     "text": [
      "5\n"
     ]
    }
   ],
   "source": [
    "print(len(str))"
   ]
  },
  {
   "cell_type": "code",
   "execution_count": null,
   "id": "5f13106f-1363-4dc0-b919-afea0d4bf9da",
   "metadata": {},
   "outputs": [],
   "source": [
    "#count the number of vowels (a, e, i, o, u) in the string.#"
   ]
  },
  {
   "cell_type": "code",
   "execution_count": 19,
   "id": "8bc973c1-3d1f-420e-8f4d-9a3808391568",
   "metadata": {},
   "outputs": [],
   "source": [
    "str=\" my first python program\""
   ]
  },
  {
   "cell_type": "code",
   "execution_count": 20,
   "id": "d024acb0-58dd-4014-91f8-991271f8b22f",
   "metadata": {},
   "outputs": [],
   "source": [
    "vowels=\"aeiou\""
   ]
  },
  {
   "cell_type": "code",
   "execution_count": 22,
   "id": "f3b5d2b4-93d4-4808-b256-11961a89997a",
   "metadata": {},
   "outputs": [],
   "source": [
    "count=sum(str.count(vowel) for vowel in vowels )"
   ]
  },
  {
   "cell_type": "code",
   "execution_count": 24,
   "id": "49c84ac3-700b-4f68-ab54-2a9310aaaf41",
   "metadata": {},
   "outputs": [
    {
     "name": "stdout",
     "output_type": "stream",
     "text": [
      "4\n"
     ]
    }
   ],
   "source": [
    "print(count)"
   ]
  },
  {
   "cell_type": "code",
   "execution_count": null,
   "id": "910333b8-72a3-4ea9-9030-d0d71f3b3d0b",
   "metadata": {},
   "outputs": [],
   "source": [
    "#reverse the order of characters using string slicing#"
   ]
  },
  {
   "cell_type": "code",
   "execution_count": 25,
   "id": "85ce077c-fffd-4df0-8ce1-45899b9b7a59",
   "metadata": {},
   "outputs": [],
   "source": [
    "a=\"tannu\""
   ]
  },
  {
   "cell_type": "code",
   "execution_count": 29,
   "id": "4dd0e620-44ac-4744-9041-3270638383ba",
   "metadata": {},
   "outputs": [
    {
     "data": {
      "text/plain": [
       "'tannu'"
      ]
     },
     "execution_count": 29,
     "metadata": {},
     "output_type": "execute_result"
    }
   ],
   "source": [
    "a"
   ]
  },
  {
   "cell_type": "code",
   "execution_count": 30,
   "id": "50b28e8a-9069-4151-926f-5cb50907b11e",
   "metadata": {},
   "outputs": [
    {
     "data": {
      "text/plain": [
       "'unnat'"
      ]
     },
     "execution_count": 30,
     "metadata": {},
     "output_type": "execute_result"
    }
   ],
   "source": [
    "a[::-1]"
   ]
  },
  {
   "cell_type": "code",
   "execution_count": null,
   "id": "7faa4a49-e361-4b98-9584-5e2e7526cea8",
   "metadata": {},
   "outputs": [],
   "source": [
    "#check a string is a palindrome or not#"
   ]
  },
  {
   "cell_type": "code",
   "execution_count": 51,
   "id": "1e90cd23-7cbf-44e2-b5e4-480ed2b0de95",
   "metadata": {},
   "outputs": [
    {
     "name": "stdin",
     "output_type": "stream",
     "text": [
      "enter a string patna\n"
     ]
    }
   ],
   "source": [
    "string =input(\"enter a string\")"
   ]
  },
  {
   "cell_type": "code",
   "execution_count": 52,
   "id": "7c67b6d5-666b-4e33-b6f4-cacc65540969",
   "metadata": {},
   "outputs": [
    {
     "data": {
      "text/plain": [
       "'antap'"
      ]
     },
     "execution_count": 52,
     "metadata": {},
     "output_type": "execute_result"
    }
   ],
   "source": [
    "string[::-1]"
   ]
  },
  {
   "cell_type": "code",
   "execution_count": 53,
   "id": "ebe7f41d-43b2-41ec-ba74-bd54e22d2709",
   "metadata": {},
   "outputs": [
    {
     "name": "stdout",
     "output_type": "stream",
     "text": [
      "not palindrome\n"
     ]
    }
   ],
   "source": [
    "if (string == string[::-1]):\n",
    "    print( 'string is palindrome')\n",
    "else:\n",
    "    print(\"not palindrome\")"
   ]
  },
  {
   "cell_type": "code",
   "execution_count": null,
   "id": "6803b431-4d46-448a-8e7d-408ca168988f",
   "metadata": {},
   "outputs": [],
   "source": [
    "#remove all the space from the string#"
   ]
  },
  {
   "cell_type": "code",
   "execution_count": 54,
   "id": "d4d88094-8aae-4a31-9d3b-ecea3053186c",
   "metadata": {},
   "outputs": [],
   "source": [
    "a=\"p   w   skill   s\""
   ]
  },
  {
   "cell_type": "code",
   "execution_count": 58,
   "id": "45f750b2-c6b4-4636-b42d-2596962710fb",
   "metadata": {},
   "outputs": [
    {
     "name": "stdout",
     "output_type": "stream",
     "text": [
      "pwskills\n"
     ]
    }
   ],
   "source": [
    "print(a.replace(\" \", \"\"))"
   ]
  }
 ],
 "metadata": {
  "kernelspec": {
   "display_name": "Python 3 (ipykernel)",
   "language": "python",
   "name": "python3"
  },
  "language_info": {
   "codemirror_mode": {
    "name": "ipython",
    "version": 3
   },
   "file_extension": ".py",
   "mimetype": "text/x-python",
   "name": "python",
   "nbconvert_exporter": "python",
   "pygments_lexer": "ipython3",
   "version": "3.10.8"
  }
 },
 "nbformat": 4,
 "nbformat_minor": 5
}
